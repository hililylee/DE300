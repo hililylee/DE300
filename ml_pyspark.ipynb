{
 "cells": [
  {
   "cell_type": "code",
   "execution_count": 1,
   "id": "aec40645-c35e-4289-b1d5-3ec1394225d3",
   "metadata": {},
   "outputs": [],
   "source": [
    "from pyspark.sql import SparkSession\n",
    "from pyspark.sql.types import IntegerType, FloatType, LongType, StringType, DoubleType\n",
    "from pyspark.sql.dataframe import DataFrame\n",
    "from pyspark.sql.functions import col\n",
    "from pyspark.sql import SparkSession\n",
    "from pyspark.ml import Pipeline, Transformer\n",
    "from pyspark.ml.feature import StringIndexer, VectorAssembler, Imputer\n",
    "from pyspark.ml.classification import RandomForestClassifier\n",
    "from pyspark.ml.tuning import CrossValidator, ParamGridBuilder\n",
    "from pyspark.ml.evaluation import BinaryClassificationEvaluator\n",
    "import pyspark.sql.functions as F\n",
    "from itertools import combinations\n",
    "import os"
   ]
  },
  {
   "cell_type": "markdown",
   "id": "27631c35-a4d9-4c18-a703-09c103b0e538",
   "metadata": {},
   "source": [
    "### Check Python Path"
   ]
  },
  {
   "cell_type": "code",
   "execution_count": 2,
   "id": "d3f28a14-9318-49bb-8845-42cd84b2d834",
   "metadata": {},
   "outputs": [
    {
     "data": {
      "text/plain": [
       "'/tmp/demos/bin/python3'"
      ]
     },
     "execution_count": 2,
     "metadata": {},
     "output_type": "execute_result"
    }
   ],
   "source": [
    "import sys\n",
    "sys.executable"
   ]
  },
  {
   "cell_type": "code",
   "execution_count": 3,
   "id": "89993c54-1607-4c07-9b71-5f474dab1632",
   "metadata": {},
   "outputs": [],
   "source": [
    "DATA_FOLDER = \"data\"\n",
    "\n",
    "NUMBER_OF_FOLDS = 3\n",
    "SPLIT_SEED = 7576\n",
    "TRAIN_TEST_SPLIT = 0.8"
   ]
  },
  {
   "cell_type": "markdown",
   "id": "a88fc9dd-384e-4a67-9563-810b050505a0",
   "metadata": {},
   "source": [
    "### Function for data reading"
   ]
  },
  {
   "cell_type": "code",
   "execution_count": 4,
   "id": "c1efcf56-68b8-451e-94c9-5546a1273a64",
   "metadata": {},
   "outputs": [],
   "source": [
    "def read_data(spark: SparkSession) -> DataFrame:\n",
    "    \"\"\"\n",
    "    read data; since the data has the header we let spark guess the schema\n",
    "    \"\"\"\n",
    "    \n",
    "    # Read the Titanic CSV data into a DataFrame\n",
    "    titanic_data = spark.read \\\n",
    "        .format(\"csv\") \\\n",
    "        .option(\"header\", \"true\") \\\n",
    "        .option(\"inferSchema\", \"true\") \\\n",
    "        .load(os.path.join(DATA_FOLDER,\"*.csv\"))\n",
    "\n",
    "    return titanic_data"
   ]
  },
  {
   "cell_type": "markdown",
   "id": "e4340d0d-c25b-4756-9f23-c683a11d64f7",
   "metadata": {},
   "source": [
    "### Writing new Transformer type class : adding cross product of features"
   ]
  },
  {
   "cell_type": "code",
   "execution_count": 5,
   "id": "31036ea3-40c1-4955-9bd4-713551b48ed5",
   "metadata": {},
   "outputs": [],
   "source": [
    "class PairwiseProduct(Transformer):\n",
    "\n",
    "    def __init__(self, inputCols, outputCols):\n",
    "        self.__inputCols = inputCols\n",
    "        self.__outputCols = outputCols\n",
    "\n",
    "        self._paramMap = self._params = {}\n",
    "\n",
    "    def _transform(self, df):\n",
    "        for cols, out_col in zip(self.__inputCols, self.__outputCols):\n",
    "            df = df.withColumn(out_col, col(cols[0]) * col(cols[1]))\n",
    "        return df"
   ]
  },
  {
   "cell_type": "markdown",
   "id": "79a4a584-46dd-4575-903c-86f006c3a382",
   "metadata": {},
   "source": [
    "### Task 1: Add the squared of numerical features"
   ]
  },
  {
   "cell_type": "code",
   "execution_count": 6,
   "id": "2198cc9c-89f3-48f9-a0a3-2d9c23670a92",
   "metadata": {},
   "outputs": [],
   "source": [
    "from pyspark.ml import Transformer\n",
    "from pyspark.ml.param.shared import HasInputCols, HasOutputCols\n",
    "from pyspark.sql.functions import col, pow\n",
    "from pyspark.sql import DataFrame\n",
    "\n",
    "class SquaredFeatures(Transformer, HasInputCols, HasOutputCols):\n",
    "    def __init__(self, inputCols=None, outputCols=None):\n",
    "        super(SquaredFeatures, self).__init__()\n",
    "        self._setDefault(inputCols=None, outputCols=None)\n",
    "        self.setParams(inputCols=inputCols, outputCols=outputCols)\n",
    "\n",
    "    def setParams(self, inputCols=None, outputCols=None):\n",
    "        return self._set(inputCols=inputCols, outputCols=outputCols)\n",
    "\n",
    "    def _transform(self, df: DataFrame) -> DataFrame:\n",
    "        input_cols = self.getInputCols()\n",
    "        output_cols = self.getOutputCols()\n",
    "        \n",
    "        for i, col_name in enumerate(input_cols):\n",
    "            squared_col_name = output_cols[i]\n",
    "            df = df.withColumn(squared_col_name, pow(col(col_name), 2))\n",
    "        \n",
    "        return df"
   ]
  },
  {
   "cell_type": "markdown",
   "id": "76851ee3-9eb0-4304-87e4-70069ce9c2f2",
   "metadata": {},
   "source": [
    "### The ML Pipeline"
   ]
  },
  {
   "cell_type": "code",
   "execution_count": 7,
   "id": "8a1094eb-f068-418d-935d-26e7c22811db",
   "metadata": {},
   "outputs": [],
   "source": [
    "def pipeline(data: DataFrame):\n",
    "\n",
    "    \"\"\"\n",
    "    every attribute that is numeric is non-categorical; this is questionable\n",
    "    \"\"\"\n",
    "\n",
    "    numeric_features = [f.name for f in data.schema.fields if isinstance(f.dataType, DoubleType) or isinstance(f.dataType, FloatType) or isinstance(f.dataType, IntegerType) or isinstance(f.dataType, LongType)]\n",
    "    string_features = [f.name for f in data.schema.fields if isinstance(f.dataType, StringType)]\n",
    "    numeric_features.remove(\"PassengerId\")\n",
    "    numeric_features.remove(\"Survived\")\n",
    "    string_features.remove(\"Name\")\n",
    "\n",
    "    # index string features; map string to consecutive integers - it should be one hot encoding \n",
    "    name_indexed_string_columns = [f\"{v}Index\" for v in string_features] \n",
    "    # we must have keep so that we can impute them in the next step\n",
    "    indexer = StringIndexer(inputCols=string_features, outputCols=name_indexed_string_columns, handleInvalid='keep')\n",
    "\n",
    "    # Fill missing values; strategy can be mode, median, mean\n",
    "    \n",
    "    # string columns\n",
    "    imputed_columns_string = [f\"Imputed{v}\" for v in name_indexed_string_columns]\n",
    "    imputers_string = []\n",
    "    for org_col_name, indexed_col_name, imputed_col_name in zip(string_features, name_indexed_string_columns, imputed_columns_string):\n",
    "        # Count the number of distinct categories in the original column\n",
    "        number_of_categories = data.select(F.countDistinct(org_col_name)).take(1)[0].asDict()[f'count(DISTINCT {org_col_name})']\n",
    "        \n",
    "        # Create an imputer for the indexed column\n",
    "        # this is the value that needs to be imputed based on the keep option above\n",
    "        imputer = Imputer(inputCol=indexed_col_name, outputCol=imputed_col_name, strategy = \"mode\", missingValue=number_of_categories)\n",
    "\n",
    "        # Append the imputer to the list\n",
    "        imputers_string.append(imputer)\n",
    "\n",
    "    # numeric columns\n",
    "    imputed_columns_numeric = [f\"Imputed{v}\" for v in numeric_features]\n",
    "    imputer_numeric = Imputer(inputCols=numeric_features, outputCols=imputed_columns_numeric, strategy = \"mean\")\n",
    "\n",
    "    # Create squared features\n",
    "    squared_features = SquaredFeatures(inputCols=imputed_columns_numeric, outputCols=[f\"{col}_squared\" for col in imputed_columns_numeric])\n",
    "\n",
    "    # Create all pairwise products of numeric features\n",
    "    all_pairs = [v for v in combinations(imputed_columns_numeric, 2)]\n",
    "    pairwise_columns = [f\"{col1}_{col2}\" for col1, col2 in all_pairs]\n",
    "    pairwise_product = PairwiseProduct(inputCols=all_pairs, outputCols=pairwise_columns)\n",
    "\n",
    "    # Assemble feature columns into a single feature vector\n",
    "    assembler = VectorAssembler(\n",
    "        inputCols=pairwise_columns + imputed_columns_numeric + [f\"{col}_squared\" for col in imputed_columns_numeric] + imputed_columns_string, \n",
    "        outputCol=\"features\"\n",
    "    )\n",
    "\n",
    "    # Define a Random Forest classifier\n",
    "    classifier = RandomForestClassifier(labelCol=\"Survived\", featuresCol=\"features\")\n",
    "\n",
    "    # Create the pipeline\n",
    "    pipeline = Pipeline(stages=[indexer, *imputers_string, imputer_numeric, squared_features, pairwise_product, assembler, classifier])\n",
    "    \n",
    "    # Set up the parameter grid for maximum tree depth\n",
    "    paramGrid = ParamGridBuilder() \\\n",
    "        .addGrid(classifier.maxDepth, [2, 4, 6, 8, 10]) \\\n",
    "        .addGrid(classifier.numTrees, [20, 50, 100]) \\\n",
    "        .build()\n",
    "\n",
    "    # Set up the cross-validator\n",
    "    evaluator = BinaryClassificationEvaluator(labelCol=\"Survived\", rawPredictionCol=\"rawPrediction\", metricName=\"areaUnderROC\")\n",
    "    crossval = CrossValidator(\n",
    "        estimator=pipeline,\n",
    "        estimatorParamMaps=paramGrid,\n",
    "        evaluator=evaluator,\n",
    "        numFolds=NUMBER_OF_FOLDS,\n",
    "        seed=SPLIT_SEED\n",
    "    )\n",
    "\n",
    "    # Split the data into training and test sets\n",
    "    train_data, test_data = data.randomSplit([TRAIN_TEST_SPLIT, 1-TRAIN_TEST_SPLIT], seed=SPLIT_SEED)\n",
    "\n",
    "    # Train the cross-validated pipeline model\n",
    "    cvModel = crossval.fit(train_data)\n",
    "\n",
    "    # Make predictions on the test data\n",
    "    predictions = cvModel.transform(test_data)\n",
    "\n",
    "    # Evaluate the model\n",
    "    auc = evaluator.evaluate(predictions)\n",
    "    print(f\"Area Under ROC Curve: {auc:.4f}\")\n",
    "\n",
    "    # Get the best RandomForest model\n",
    "    best_model = cvModel.bestModel.stages[-1]\n",
    "\n",
    "    # Retrieve the selected maximum tree depth\n",
    "    selected_max_depth = best_model.getOrDefault(best_model.getParam(\"maxDepth\"))\n",
    "    selected_num_trees = best_model.getOrDefault(best_model.getParam(\"numTrees\"))\n",
    "\n",
    "\n",
    "    # Print the selected maximum tree depth\n",
    "    print(f\"Selected Maximum Tree Depth: {selected_max_depth}\")\n",
    "    print(f\"Selected Number of Trees: {selected_num_trees}\")"
   ]
  },
  {
   "cell_type": "markdown",
   "id": "81997973-a619-4f2b-83b0-4f8519bc0e28",
   "metadata": {},
   "source": [
    "### Task 2"
   ]
  },
  {
   "cell_type": "markdown",
   "id": "aa611765-78e7-46cb-9dd9-b704d43ec857",
   "metadata": {},
   "source": [
    "In order to extend my Cross-Validation Parameter Grid, I used a new hyperparameter called 'numTrees' and added it to the ParameterGrid. The numTrees parameter in a Random Forest classifier specifies the number of trees to be used in the forest. Increasing the number of trees usually improves the performance of the model by reducing overfitting and capturing more complex patterns in the data. After a certain point however, it doesn't improve accuracy but adds to computational cost. By tuning numTrees, we can find an optimal balance where the model generalizes well to unseen data."
   ]
  },
  {
   "cell_type": "markdown",
   "id": "ccca0710-0bf2-4d90-bc03-fa10e236a791",
   "metadata": {},
   "source": [
    "### Original Results without Squared of numerical features"
   ]
  },
  {
   "cell_type": "code",
   "execution_count": 8,
   "id": "955391c3-bad2-4305-b1ae-4733ef925a50",
   "metadata": {},
   "outputs": [
    {
     "name": "stderr",
     "output_type": "stream",
     "text": [
      "                                                                                \r"
     ]
    },
    {
     "name": "stdout",
     "output_type": "stream",
     "text": [
      "Area Under ROC Curve: 0.8828\n",
      "Selected Maximum Tree Depth: 4\n"
     ]
    }
   ],
   "source": [
    "def main():\n",
    "    # Create a Spark session\n",
    "    spark = SparkSession.builder \\\n",
    "        .appName(\"Predict Titanic Survival\") \\\n",
    "        .getOrCreate()\n",
    "\n",
    "    data = read_data(spark)\n",
    "    pipeline(data)\n",
    "\n",
    "    spark.stop()\n",
    "    \n",
    "main()"
   ]
  },
  {
   "cell_type": "markdown",
   "id": "0c255f5e-ca48-4bbb-8762-1f4bdb83e992",
   "metadata": {},
   "source": [
    "### New Results"
   ]
  },
  {
   "cell_type": "code",
   "execution_count": 8,
   "id": "3ad8d320-8c91-4856-9dcf-8ad4f1135d29",
   "metadata": {},
   "outputs": [
    {
     "name": "stderr",
     "output_type": "stream",
     "text": [
      "Setting default log level to \"WARN\".\n",
      "To adjust logging level use sc.setLogLevel(newLevel). For SparkR, use setLogLevel(newLevel).\n",
      "24/05/23 05:18:54 WARN NativeCodeLoader: Unable to load native-hadoop library for your platform... using builtin-java classes where applicable\n",
      "24/05/23 05:19:49 WARN DAGScheduler: Broadcasting large task binary with size 1209.7 KiB\n",
      "24/05/23 05:20:00 WARN DAGScheduler: Broadcasting large task binary with size 1209.7 KiB\n",
      "24/05/23 05:20:00 WARN DAGScheduler: Broadcasting large task binary with size 1451.1 KiB\n",
      "24/05/23 05:20:00 WARN DAGScheduler: Broadcasting large task binary with size 1662.6 KiB\n",
      "24/05/23 05:20:01 WARN DAGScheduler: Broadcasting large task binary with size 1220.3 KiB\n",
      "24/05/23 05:20:33 WARN DAGScheduler: Broadcasting large task binary with size 1200.3 KiB\n",
      "24/05/23 05:20:43 WARN DAGScheduler: Broadcasting large task binary with size 1200.3 KiB\n",
      "24/05/23 05:20:43 WARN DAGScheduler: Broadcasting large task binary with size 1429.7 KiB\n",
      "24/05/23 05:20:43 WARN DAGScheduler: Broadcasting large task binary with size 1628.9 KiB\n",
      "24/05/23 05:20:44 WARN DAGScheduler: Broadcasting large task binary with size 1216.5 KiB\n",
      "24/05/23 05:21:15 WARN DAGScheduler: Broadcasting large task binary with size 1213.1 KiB\n",
      "24/05/23 05:21:24 WARN DAGScheduler: Broadcasting large task binary with size 1213.1 KiB\n",
      "24/05/23 05:21:25 WARN DAGScheduler: Broadcasting large task binary with size 1441.5 KiB\n",
      "24/05/23 05:21:25 WARN DAGScheduler: Broadcasting large task binary with size 1637.4 KiB\n",
      "24/05/23 05:21:26 WARN DAGScheduler: Broadcasting large task binary with size 1210.3 KiB\n"
     ]
    },
    {
     "name": "stdout",
     "output_type": "stream",
     "text": [
      "Area Under ROC Curve: 0.8912\n",
      "Selected Maximum Tree Depth: 6\n",
      "Selected Number of Trees: 50\n"
     ]
    }
   ],
   "source": [
    "def main():\n",
    "    # Create a Spark session\n",
    "    spark = SparkSession.builder \\\n",
    "        .appName(\"Predict Titanic Survival\") \\\n",
    "        .getOrCreate()\n",
    "\n",
    "    data = read_data(spark)\n",
    "    pipeline(data)\n",
    "\n",
    "    spark.stop()\n",
    "    \n",
    "main()"
   ]
  },
  {
   "cell_type": "code",
   "execution_count": null,
   "id": "e840d85c-e8ba-4a8d-847a-6bc4e46e1da2",
   "metadata": {},
   "outputs": [],
   "source": []
  }
 ],
 "metadata": {
  "kernelspec": {
   "display_name": "Python 3 (ipykernel)",
   "language": "python",
   "name": "python3"
  },
  "language_info": {
   "codemirror_mode": {
    "name": "ipython",
    "version": 3
   },
   "file_extension": ".py",
   "mimetype": "text/x-python",
   "name": "python",
   "nbconvert_exporter": "python",
   "pygments_lexer": "ipython3",
   "version": "3.10.12"
  }
 },
 "nbformat": 4,
 "nbformat_minor": 5
}
